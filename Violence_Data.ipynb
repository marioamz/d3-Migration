{
 "cells": [
  {
   "cell_type": "code",
   "execution_count": 2,
   "metadata": {},
   "outputs": [],
   "source": [
    "import pandas as pd\n",
    "import cwrangle as cw"
   ]
  },
  {
   "cell_type": "code",
   "execution_count": 2,
   "metadata": {},
   "outputs": [],
   "source": [
    "violence = pd.read_csv('d3data/usa2017.csv')"
   ]
  },
  {
   "cell_type": "code",
   "execution_count": 3,
   "metadata": {},
   "outputs": [],
   "source": [
    "l = []\n",
    "for i in range(14):\n",
    "    l.append('p18_' + str(i + 1))"
   ]
  },
  {
   "cell_type": "code",
   "execution_count": 4,
   "metadata": {},
   "outputs": [],
   "source": [
    "l.append('p19_1e')\n",
    "l.append('p19_2e')\n",
    "l.append('p20e')"
   ]
  },
  {
   "cell_type": "code",
   "execution_count": 1,
   "metadata": {},
   "outputs": [
    {
     "ename": "NameError",
     "evalue": "name 'violence' is not defined",
     "output_type": "error",
     "traceback": [
      "\u001b[0;31m---------------------------------------------------------------------------\u001b[0m",
      "\u001b[0;31mNameError\u001b[0m                                 Traceback (most recent call last)",
      "\u001b[0;32m<ipython-input-1-d1f63a5c4b08>\u001b[0m in \u001b[0;36m<module>\u001b[0;34m\u001b[0m\n\u001b[0;32m----> 1\u001b[0;31m \u001b[0mviolence\u001b[0m\u001b[0;34m.\u001b[0m\u001b[0mto_csv\u001b[0m\u001b[0;34m(\u001b[0m\u001b[0;34m'd3data/violence.csv'\u001b[0m\u001b[0;34m)\u001b[0m\u001b[0;34m\u001b[0m\u001b[0;34m\u001b[0m\u001b[0m\n\u001b[0m",
      "\u001b[0;31mNameError\u001b[0m: name 'violence' is not defined"
     ]
    }
   ],
   "source": [
    "violence.to_csv('d3data/violence.csv')"
   ]
  },
  {
   "cell_type": "code",
   "execution_count": 50,
   "metadata": {},
   "outputs": [],
   "source": [
    "df = cw.read_csv('d3data/usa2017.csv', 'Values/ValoresUSA2017.csv', 'Variable', l)"
   ]
  },
  {
   "cell_type": "code",
   "execution_count": 51,
   "metadata": {},
   "outputs": [
    {
     "data": {
      "text/html": [
       "<div>\n",
       "<style scoped>\n",
       "    .dataframe tbody tr th:only-of-type {\n",
       "        vertical-align: middle;\n",
       "    }\n",
       "\n",
       "    .dataframe tbody tr th {\n",
       "        vertical-align: top;\n",
       "    }\n",
       "\n",
       "    .dataframe thead th {\n",
       "        text-align: right;\n",
       "    }\n",
       "</style>\n",
       "<table border=\"1\" class=\"dataframe\">\n",
       "  <thead>\n",
       "    <tr style=\"text-align: right;\">\n",
       "      <th></th>\n",
       "      <th>p18_1</th>\n",
       "      <th>p18_2</th>\n",
       "      <th>p18_3</th>\n",
       "      <th>p18_4</th>\n",
       "      <th>p18_5</th>\n",
       "      <th>p18_6</th>\n",
       "      <th>p18_7</th>\n",
       "      <th>p18_8</th>\n",
       "      <th>p18_9</th>\n",
       "      <th>p18_10</th>\n",
       "      <th>p18_11</th>\n",
       "      <th>p18_12</th>\n",
       "      <th>p18_13</th>\n",
       "      <th>p18_14</th>\n",
       "      <th>p19_1e</th>\n",
       "      <th>p19_2e</th>\n",
       "      <th>p20e</th>\n",
       "    </tr>\n",
       "  </thead>\n",
       "  <tbody>\n",
       "    <tr>\n",
       "      <th>0</th>\n",
       "      <td>No</td>\n",
       "      <td>No</td>\n",
       "      <td>No</td>\n",
       "      <td>No</td>\n",
       "      <td>No</td>\n",
       "      <td>No</td>\n",
       "      <td>No</td>\n",
       "      <td>No</td>\n",
       "      <td>No</td>\n",
       "      <td>No</td>\n",
       "      <td>No</td>\n",
       "      <td>No</td>\n",
       "      <td>No</td>\n",
       "      <td>No</td>\n",
       "      <td>Puebla</td>\n",
       "      <td>San Luis Potosí</td>\n",
       "      <td>Nuevo León</td>\n",
       "    </tr>\n",
       "    <tr>\n",
       "      <th>1</th>\n",
       "      <td>No</td>\n",
       "      <td>No</td>\n",
       "      <td>No</td>\n",
       "      <td>No</td>\n",
       "      <td>No</td>\n",
       "      <td>No</td>\n",
       "      <td>No</td>\n",
       "      <td>No</td>\n",
       "      <td>No</td>\n",
       "      <td>No</td>\n",
       "      <td>No</td>\n",
       "      <td>No</td>\n",
       "      <td>No</td>\n",
       "      <td>No</td>\n",
       "      <td>Tamaulipas</td>\n",
       "      <td>Chiapas</td>\n",
       "      <td>Tamaulipas</td>\n",
       "    </tr>\n",
       "    <tr>\n",
       "      <th>2</th>\n",
       "      <td>No</td>\n",
       "      <td>No</td>\n",
       "      <td>No</td>\n",
       "      <td>No</td>\n",
       "      <td>No</td>\n",
       "      <td>No</td>\n",
       "      <td>No</td>\n",
       "      <td>No</td>\n",
       "      <td>No</td>\n",
       "      <td>No</td>\n",
       "      <td>No</td>\n",
       "      <td>No</td>\n",
       "      <td>No</td>\n",
       "      <td>No</td>\n",
       "      <td>Distrito Federal</td>\n",
       "      <td>Nuevo León</td>\n",
       "      <td>Nuevo León</td>\n",
       "    </tr>\n",
       "    <tr>\n",
       "      <th>3</th>\n",
       "      <td>No</td>\n",
       "      <td>No</td>\n",
       "      <td>No</td>\n",
       "      <td>No</td>\n",
       "      <td>No</td>\n",
       "      <td>No</td>\n",
       "      <td>No</td>\n",
       "      <td>No</td>\n",
       "      <td>No</td>\n",
       "      <td>No</td>\n",
       "      <td>No</td>\n",
       "      <td>No</td>\n",
       "      <td>No</td>\n",
       "      <td>No</td>\n",
       "      <td>Puebla</td>\n",
       "      <td>Nuevo León</td>\n",
       "      <td>Puebla</td>\n",
       "    </tr>\n",
       "    <tr>\n",
       "      <th>4</th>\n",
       "      <td>Sí</td>\n",
       "      <td>No</td>\n",
       "      <td>No</td>\n",
       "      <td>No</td>\n",
       "      <td>No</td>\n",
       "      <td>No</td>\n",
       "      <td>No</td>\n",
       "      <td>No</td>\n",
       "      <td>No</td>\n",
       "      <td>No</td>\n",
       "      <td>No</td>\n",
       "      <td>No</td>\n",
       "      <td>No</td>\n",
       "      <td>No</td>\n",
       "      <td>Distrito Federal</td>\n",
       "      <td>Chiapas</td>\n",
       "      <td>Nuevo León</td>\n",
       "    </tr>\n",
       "  </tbody>\n",
       "</table>\n",
       "</div>"
      ],
      "text/plain": [
       "  p18_1 p18_2 p18_3 p18_4 p18_5 p18_6 p18_7 p18_8 p18_9 p18_10 p18_11 p18_12  \\\n",
       "0    No    No    No    No    No    No    No    No    No     No     No     No   \n",
       "1    No    No    No    No    No    No    No    No    No     No     No     No   \n",
       "2    No    No    No    No    No    No    No    No    No     No     No     No   \n",
       "3    No    No    No    No    No    No    No    No    No     No     No     No   \n",
       "4    Sí    No    No    No    No    No    No    No    No     No     No     No   \n",
       "\n",
       "  p18_13 p18_14            p19_1e           p19_2e        p20e  \n",
       "0     No     No            Puebla  San Luis Potosí  Nuevo León  \n",
       "1     No     No        Tamaulipas          Chiapas  Tamaulipas  \n",
       "2     No     No  Distrito Federal       Nuevo León  Nuevo León  \n",
       "3     No     No            Puebla       Nuevo León      Puebla  \n",
       "4     No     No  Distrito Federal          Chiapas  Nuevo León  "
      ]
     },
     "execution_count": 51,
     "metadata": {},
     "output_type": "execute_result"
    }
   ],
   "source": [
    "df.head()"
   ]
  },
  {
   "cell_type": "code",
   "execution_count": 52,
   "metadata": {},
   "outputs": [],
   "source": [
    "to_count = df.replace(['No', 'No sabe', 'No responde', 'Sí', 'No especificado'], [0,0,0,1,0])"
   ]
  },
  {
   "cell_type": "code",
   "execution_count": 53,
   "metadata": {},
   "outputs": [],
   "source": [
    "to_count['sum'] = to_count.sum(axis=1)"
   ]
  },
  {
   "cell_type": "code",
   "execution_count": 54,
   "metadata": {},
   "outputs": [],
   "source": [
    "to_use = to_count.iloc[:,14:]"
   ]
  },
  {
   "cell_type": "code",
   "execution_count": 55,
   "metadata": {},
   "outputs": [
    {
     "data": {
      "text/plain": [
       "0     3526\n",
       "1      390\n",
       "2      304\n",
       "3       93\n",
       "4       23\n",
       "6       10\n",
       "5        8\n",
       "9        5\n",
       "7        4\n",
       "10       4\n",
       "8        4\n",
       "Name: sum, dtype: int64"
      ]
     },
     "execution_count": 55,
     "metadata": {},
     "output_type": "execute_result"
    }
   ],
   "source": [
    "to_use['sum'].value_counts()"
   ]
  },
  {
   "cell_type": "code",
   "execution_count": 56,
   "metadata": {},
   "outputs": [],
   "source": [
    "ok = to_use.melt(id_vars=['sum'])"
   ]
  },
  {
   "cell_type": "code",
   "execution_count": 57,
   "metadata": {},
   "outputs": [
    {
     "data": {
      "text/html": [
       "<div>\n",
       "<style scoped>\n",
       "    .dataframe tbody tr th:only-of-type {\n",
       "        vertical-align: middle;\n",
       "    }\n",
       "\n",
       "    .dataframe tbody tr th {\n",
       "        vertical-align: top;\n",
       "    }\n",
       "\n",
       "    .dataframe thead th {\n",
       "        text-align: right;\n",
       "    }\n",
       "</style>\n",
       "<table border=\"1\" class=\"dataframe\">\n",
       "  <thead>\n",
       "    <tr style=\"text-align: right;\">\n",
       "      <th></th>\n",
       "      <th>sum</th>\n",
       "      <th>variable</th>\n",
       "      <th>value</th>\n",
       "    </tr>\n",
       "  </thead>\n",
       "  <tbody>\n",
       "    <tr>\n",
       "      <th>0</th>\n",
       "      <td>0</td>\n",
       "      <td>p19_1e</td>\n",
       "      <td>Puebla</td>\n",
       "    </tr>\n",
       "    <tr>\n",
       "      <th>1</th>\n",
       "      <td>0</td>\n",
       "      <td>p19_1e</td>\n",
       "      <td>Tamaulipas</td>\n",
       "    </tr>\n",
       "    <tr>\n",
       "      <th>2</th>\n",
       "      <td>0</td>\n",
       "      <td>p19_1e</td>\n",
       "      <td>Distrito Federal</td>\n",
       "    </tr>\n",
       "    <tr>\n",
       "      <th>3</th>\n",
       "      <td>0</td>\n",
       "      <td>p19_1e</td>\n",
       "      <td>Puebla</td>\n",
       "    </tr>\n",
       "    <tr>\n",
       "      <th>4</th>\n",
       "      <td>1</td>\n",
       "      <td>p19_1e</td>\n",
       "      <td>Distrito Federal</td>\n",
       "    </tr>\n",
       "  </tbody>\n",
       "</table>\n",
       "</div>"
      ],
      "text/plain": [
       "   sum variable             value\n",
       "0    0   p19_1e            Puebla\n",
       "1    0   p19_1e        Tamaulipas\n",
       "2    0   p19_1e  Distrito Federal\n",
       "3    0   p19_1e            Puebla\n",
       "4    1   p19_1e  Distrito Federal"
      ]
     },
     "execution_count": 57,
     "metadata": {},
     "output_type": "execute_result"
    }
   ],
   "source": [
    "ok.head()"
   ]
  },
  {
   "cell_type": "code",
   "execution_count": 61,
   "metadata": {},
   "outputs": [],
   "source": [
    "nex = ok[ok.value != 'No especificado']\n",
    "nex2 = ok[ok.value != 0]"
   ]
  },
  {
   "cell_type": "code",
   "execution_count": 64,
   "metadata": {},
   "outputs": [],
   "source": [
    "this = nex2.groupby('value')['sum'].agg('sum')"
   ]
  },
  {
   "cell_type": "code",
   "execution_count": 65,
   "metadata": {},
   "outputs": [
    {
     "data": {
      "text/plain": [
       "value\n",
       "Aguascalientes                        4\n",
       "Baja California                      58\n",
       "Baja California Sur                   0\n",
       "Campeche                              0\n",
       "Chiapas                             724\n",
       "Chihuahua                            84\n",
       "Coahuila de Zaragoza                 74\n",
       "Colima                                2\n",
       "Distrito Federal                    356\n",
       "Durango                               8\n",
       "Guanajuato                           29\n",
       "Guerrero                              5\n",
       "Hidalgo                               0\n",
       "Jalisco                              54\n",
       "Michoacán de Ocampo                   4\n",
       "Morelos                               1\n",
       "México                               46\n",
       "Nayarit                               3\n",
       "Nuevo León                          274\n",
       "Oaxaca                               79\n",
       "Puebla                              155\n",
       "Querétaro                             1\n",
       "Quintana Roo                          9\n",
       "San Luis Potosí                     110\n",
       "Sinaloa                               6\n",
       "Sonora                              246\n",
       "Tabasco                             248\n",
       "Tamaulipas                         1341\n",
       "Tlaxcala                              1\n",
       "Veracruz de Ignacio de la Llave     601\n",
       "Yucatán                               1\n",
       "Zacatecas                            15\n",
       "Name: sum, dtype: int64"
      ]
     },
     "execution_count": 65,
     "metadata": {},
     "output_type": "execute_result"
    }
   ],
   "source": [
    "this"
   ]
  },
  {
   "cell_type": "code",
   "execution_count": 66,
   "metadata": {},
   "outputs": [],
   "source": [
    "values = nex2['value'].value_counts()"
   ]
  },
  {
   "cell_type": "code",
   "execution_count": 70,
   "metadata": {},
   "outputs": [
    {
     "data": {
      "text/plain": [
       "Tamaulipas                         3438\n",
       "Chiapas                            2077\n",
       "Veracruz de Ignacio de la Llave    1107\n",
       "Nuevo León                         1003\n",
       "Sonora                              885\n",
       "Distrito Federal                    861\n",
       "Tabasco                             574\n",
       "Puebla                              568\n",
       "Chihuahua                           302\n",
       "Baja California                     224\n",
       "San Luis Potosí                     212\n",
       "Oaxaca                              199\n",
       "Coahuila de Zaragoza                175\n",
       "México                              167\n",
       "Jalisco                             121\n",
       "Guanajuato                           83\n",
       "Querétaro                            65\n",
       "Durango                              34\n",
       "Sinaloa                              32\n",
       "Quintana Roo                         24\n",
       "Guerrero                             23\n",
       "Zacatecas                            13\n",
       "Hidalgo                              11\n",
       "Aguascalientes                       10\n",
       "Nayarit                               7\n",
       "Michoacán de Ocampo                   6\n",
       "Campeche                              5\n",
       "Yucatán                               4\n",
       "Morelos                               3\n",
       "Colima                                3\n",
       "Baja California Sur                   1\n",
       "Tlaxcala                              1\n",
       "Name: value, dtype: int64"
      ]
     },
     "execution_count": 70,
     "metadata": {},
     "output_type": "execute_result"
    }
   ],
   "source": [
    "values"
   ]
  },
  {
   "cell_type": "code",
   "execution_count": 72,
   "metadata": {},
   "outputs": [],
   "source": [
    "vals = values.replace([1, 3, 4, 5, 6, 7, 10, 11, 13], 0)"
   ]
  },
  {
   "cell_type": "code",
   "execution_count": 74,
   "metadata": {},
   "outputs": [],
   "source": [
    "final = this / vals"
   ]
  },
  {
   "cell_type": "code",
   "execution_count": 81,
   "metadata": {},
   "outputs": [],
   "source": [
    "final = final.to_frame()"
   ]
  },
  {
   "cell_type": "code",
   "execution_count": 82,
   "metadata": {},
   "outputs": [],
   "source": [
    "import numpy as np\n",
    "final = final.replace([np.inf, -np.inf, np.nan], 0)\n"
   ]
  },
  {
   "cell_type": "code",
   "execution_count": 10,
   "metadata": {},
   "outputs": [],
   "source": [
    "vio.to_csv('d3data/violence.csv')"
   ]
  },
  {
   "cell_type": "code",
   "execution_count": 3,
   "metadata": {},
   "outputs": [],
   "source": [
    "vio = pd.read_csv('d3data/violence.csv')"
   ]
  },
  {
   "cell_type": "code",
   "execution_count": 10,
   "metadata": {},
   "outputs": [],
   "source": [
    "vio = vio.rename(columns = {'Unnamed: 0': 'Index'})"
   ]
  },
  {
   "cell_type": "code",
   "execution_count": 11,
   "metadata": {},
   "outputs": [
    {
     "data": {
      "text/html": [
       "<div>\n",
       "<style scoped>\n",
       "    .dataframe tbody tr th:only-of-type {\n",
       "        vertical-align: middle;\n",
       "    }\n",
       "\n",
       "    .dataframe tbody tr th {\n",
       "        vertical-align: top;\n",
       "    }\n",
       "\n",
       "    .dataframe thead th {\n",
       "        text-align: right;\n",
       "    }\n",
       "</style>\n",
       "<table border=\"1\" class=\"dataframe\">\n",
       "  <thead>\n",
       "    <tr style=\"text-align: right;\">\n",
       "      <th></th>\n",
       "      <th>Index</th>\n",
       "      <th>State</th>\n",
       "      <th>Percentage</th>\n",
       "    </tr>\n",
       "  </thead>\n",
       "  <tbody>\n",
       "    <tr>\n",
       "      <th>0</th>\n",
       "      <td>0</td>\n",
       "      <td>Aguascalientes</td>\n",
       "      <td>0.000000</td>\n",
       "    </tr>\n",
       "    <tr>\n",
       "      <th>1</th>\n",
       "      <td>1</td>\n",
       "      <td>Baja California</td>\n",
       "      <td>0.258929</td>\n",
       "    </tr>\n",
       "    <tr>\n",
       "      <th>2</th>\n",
       "      <td>2</td>\n",
       "      <td>Baja California Sur</td>\n",
       "      <td>0.000000</td>\n",
       "    </tr>\n",
       "    <tr>\n",
       "      <th>3</th>\n",
       "      <td>3</td>\n",
       "      <td>Campeche</td>\n",
       "      <td>0.000000</td>\n",
       "    </tr>\n",
       "    <tr>\n",
       "      <th>4</th>\n",
       "      <td>4</td>\n",
       "      <td>Chiapas</td>\n",
       "      <td>0.348580</td>\n",
       "    </tr>\n",
       "    <tr>\n",
       "      <th>5</th>\n",
       "      <td>5</td>\n",
       "      <td>Chihuahua</td>\n",
       "      <td>0.278146</td>\n",
       "    </tr>\n",
       "    <tr>\n",
       "      <th>6</th>\n",
       "      <td>6</td>\n",
       "      <td>Coahuila de Zaragoza</td>\n",
       "      <td>0.422857</td>\n",
       "    </tr>\n",
       "    <tr>\n",
       "      <th>7</th>\n",
       "      <td>7</td>\n",
       "      <td>Colima</td>\n",
       "      <td>0.000000</td>\n",
       "    </tr>\n",
       "    <tr>\n",
       "      <th>8</th>\n",
       "      <td>8</td>\n",
       "      <td>Distrito Federal</td>\n",
       "      <td>0.413473</td>\n",
       "    </tr>\n",
       "    <tr>\n",
       "      <th>9</th>\n",
       "      <td>9</td>\n",
       "      <td>Durango</td>\n",
       "      <td>0.235294</td>\n",
       "    </tr>\n",
       "    <tr>\n",
       "      <th>10</th>\n",
       "      <td>10</td>\n",
       "      <td>Guanajuato</td>\n",
       "      <td>0.349398</td>\n",
       "    </tr>\n",
       "    <tr>\n",
       "      <th>11</th>\n",
       "      <td>11</td>\n",
       "      <td>Guerrero</td>\n",
       "      <td>0.217391</td>\n",
       "    </tr>\n",
       "    <tr>\n",
       "      <th>12</th>\n",
       "      <td>12</td>\n",
       "      <td>Hidalgo</td>\n",
       "      <td>0.000000</td>\n",
       "    </tr>\n",
       "    <tr>\n",
       "      <th>13</th>\n",
       "      <td>13</td>\n",
       "      <td>Jalisco</td>\n",
       "      <td>0.446281</td>\n",
       "    </tr>\n",
       "    <tr>\n",
       "      <th>14</th>\n",
       "      <td>14</td>\n",
       "      <td>Michoacán de Ocampo</td>\n",
       "      <td>0.000000</td>\n",
       "    </tr>\n",
       "    <tr>\n",
       "      <th>15</th>\n",
       "      <td>15</td>\n",
       "      <td>Morelos</td>\n",
       "      <td>0.000000</td>\n",
       "    </tr>\n",
       "    <tr>\n",
       "      <th>16</th>\n",
       "      <td>16</td>\n",
       "      <td>México</td>\n",
       "      <td>0.275449</td>\n",
       "    </tr>\n",
       "    <tr>\n",
       "      <th>17</th>\n",
       "      <td>17</td>\n",
       "      <td>Nayarit</td>\n",
       "      <td>0.000000</td>\n",
       "    </tr>\n",
       "    <tr>\n",
       "      <th>18</th>\n",
       "      <td>18</td>\n",
       "      <td>Nuevo León</td>\n",
       "      <td>0.273180</td>\n",
       "    </tr>\n",
       "    <tr>\n",
       "      <th>19</th>\n",
       "      <td>19</td>\n",
       "      <td>Oaxaca</td>\n",
       "      <td>0.396985</td>\n",
       "    </tr>\n",
       "    <tr>\n",
       "      <th>20</th>\n",
       "      <td>20</td>\n",
       "      <td>Puebla</td>\n",
       "      <td>0.272887</td>\n",
       "    </tr>\n",
       "    <tr>\n",
       "      <th>21</th>\n",
       "      <td>21</td>\n",
       "      <td>Querétaro</td>\n",
       "      <td>0.015385</td>\n",
       "    </tr>\n",
       "    <tr>\n",
       "      <th>22</th>\n",
       "      <td>22</td>\n",
       "      <td>Quintana Roo</td>\n",
       "      <td>0.375000</td>\n",
       "    </tr>\n",
       "    <tr>\n",
       "      <th>23</th>\n",
       "      <td>23</td>\n",
       "      <td>San Luis Potosí</td>\n",
       "      <td>0.518868</td>\n",
       "    </tr>\n",
       "    <tr>\n",
       "      <th>24</th>\n",
       "      <td>24</td>\n",
       "      <td>Sinaloa</td>\n",
       "      <td>0.187500</td>\n",
       "    </tr>\n",
       "    <tr>\n",
       "      <th>25</th>\n",
       "      <td>25</td>\n",
       "      <td>Sonora</td>\n",
       "      <td>0.277966</td>\n",
       "    </tr>\n",
       "    <tr>\n",
       "      <th>26</th>\n",
       "      <td>26</td>\n",
       "      <td>Tabasco</td>\n",
       "      <td>0.432056</td>\n",
       "    </tr>\n",
       "    <tr>\n",
       "      <th>27</th>\n",
       "      <td>27</td>\n",
       "      <td>Tamaulipas</td>\n",
       "      <td>0.390052</td>\n",
       "    </tr>\n",
       "    <tr>\n",
       "      <th>28</th>\n",
       "      <td>28</td>\n",
       "      <td>Tlaxcala</td>\n",
       "      <td>0.000000</td>\n",
       "    </tr>\n",
       "    <tr>\n",
       "      <th>29</th>\n",
       "      <td>29</td>\n",
       "      <td>Veracruz de Ignacio de la Llave</td>\n",
       "      <td>0.542909</td>\n",
       "    </tr>\n",
       "    <tr>\n",
       "      <th>30</th>\n",
       "      <td>30</td>\n",
       "      <td>Yucatán</td>\n",
       "      <td>0.000000</td>\n",
       "    </tr>\n",
       "    <tr>\n",
       "      <th>31</th>\n",
       "      <td>31</td>\n",
       "      <td>Zacatecas</td>\n",
       "      <td>0.000000</td>\n",
       "    </tr>\n",
       "  </tbody>\n",
       "</table>\n",
       "</div>"
      ],
      "text/plain": [
       "    Index                            State  Percentage\n",
       "0       0                   Aguascalientes    0.000000\n",
       "1       1                  Baja California    0.258929\n",
       "2       2              Baja California Sur    0.000000\n",
       "3       3                         Campeche    0.000000\n",
       "4       4                          Chiapas    0.348580\n",
       "5       5                        Chihuahua    0.278146\n",
       "6       6             Coahuila de Zaragoza    0.422857\n",
       "7       7                           Colima    0.000000\n",
       "8       8                 Distrito Federal    0.413473\n",
       "9       9                          Durango    0.235294\n",
       "10     10                       Guanajuato    0.349398\n",
       "11     11                         Guerrero    0.217391\n",
       "12     12                          Hidalgo    0.000000\n",
       "13     13                          Jalisco    0.446281\n",
       "14     14              Michoacán de Ocampo    0.000000\n",
       "15     15                          Morelos    0.000000\n",
       "16     16                           México    0.275449\n",
       "17     17                          Nayarit    0.000000\n",
       "18     18                       Nuevo León    0.273180\n",
       "19     19                           Oaxaca    0.396985\n",
       "20     20                           Puebla    0.272887\n",
       "21     21                        Querétaro    0.015385\n",
       "22     22                     Quintana Roo    0.375000\n",
       "23     23                  San Luis Potosí    0.518868\n",
       "24     24                          Sinaloa    0.187500\n",
       "25     25                           Sonora    0.277966\n",
       "26     26                          Tabasco    0.432056\n",
       "27     27                       Tamaulipas    0.390052\n",
       "28     28                         Tlaxcala    0.000000\n",
       "29     29  Veracruz de Ignacio de la Llave    0.542909\n",
       "30     30                          Yucatán    0.000000\n",
       "31     31                        Zacatecas    0.000000"
      ]
     },
     "execution_count": 11,
     "metadata": {},
     "output_type": "execute_result"
    }
   ],
   "source": [
    "vio"
   ]
  },
  {
   "cell_type": "code",
   "execution_count": 9,
   "metadata": {},
   "outputs": [],
   "source": [
    "vio = vio.rename(columns = {'Unnamed: 0':'State', '0':'Percentage'})"
   ]
  },
  {
   "cell_type": "code",
   "execution_count": null,
   "metadata": {},
   "outputs": [],
   "source": []
  }
 ],
 "metadata": {
  "kernelspec": {
   "display_name": "Python 3",
   "language": "python",
   "name": "python3"
  },
  "language_info": {
   "codemirror_mode": {
    "name": "ipython",
    "version": 3
   },
   "file_extension": ".py",
   "mimetype": "text/x-python",
   "name": "python",
   "nbconvert_exporter": "python",
   "pygments_lexer": "ipython3",
   "version": "3.7.1"
  }
 },
 "nbformat": 4,
 "nbformat_minor": 2
}
