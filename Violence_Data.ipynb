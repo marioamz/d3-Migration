{
 "cells": [
  {
   "cell_type": "code",
   "execution_count": 1,
   "metadata": {},
   "outputs": [],
   "source": [
    "import pandas as pd\n",
    "import cwrangle as cw"
   ]
  },
  {
   "cell_type": "code",
   "execution_count": 2,
   "metadata": {},
   "outputs": [],
   "source": [
    "violence = pd.read_csv('d3data/usa2017.csv')"
   ]
  },
  {
   "cell_type": "code",
   "execution_count": 3,
   "metadata": {},
   "outputs": [],
   "source": [
    "l = []\n",
    "for i in range(14):\n",
    "    l.append('p18_' + str(i + 1))"
   ]
  },
  {
   "cell_type": "code",
   "execution_count": 4,
   "metadata": {},
   "outputs": [],
   "source": [
    "l.append('p19_1e')\n",
    "l.append('p19_2e')\n",
    "l.append('p20e')"
   ]
  },
  {
   "cell_type": "code",
   "execution_count": 1,
   "metadata": {},
   "outputs": [
    {
     "ename": "NameError",
     "evalue": "name 'violence' is not defined",
     "output_type": "error",
     "traceback": [
      "\u001b[0;31m---------------------------------------------------------------------------\u001b[0m",
      "\u001b[0;31mNameError\u001b[0m                                 Traceback (most recent call last)",
      "\u001b[0;32m<ipython-input-1-d1f63a5c4b08>\u001b[0m in \u001b[0;36m<module>\u001b[0;34m\u001b[0m\n\u001b[0;32m----> 1\u001b[0;31m \u001b[0mviolence\u001b[0m\u001b[0;34m.\u001b[0m\u001b[0mto_csv\u001b[0m\u001b[0;34m(\u001b[0m\u001b[0;34m'd3data/violence.csv'\u001b[0m\u001b[0;34m)\u001b[0m\u001b[0;34m\u001b[0m\u001b[0;34m\u001b[0m\u001b[0m\n\u001b[0m",
      "\u001b[0;31mNameError\u001b[0m: name 'violence' is not defined"
     ]
    }
   ],
   "source": [
    "violence.to_csv('d3data/violence.csv')"
   ]
  },
  {
   "cell_type": "code",
   "execution_count": 50,
   "metadata": {},
   "outputs": [],
   "source": [
    "df = cw.read_csv('d3data/usa2017.csv', 'Values/ValoresUSA2017.csv', 'Variable', l)"
   ]
  },
  {
   "cell_type": "code",
   "execution_count": 51,
   "metadata": {},
   "outputs": [
    {
     "data": {
      "text/html": [
       "<div>\n",
       "<style scoped>\n",
       "    .dataframe tbody tr th:only-of-type {\n",
       "        vertical-align: middle;\n",
       "    }\n",
       "\n",
       "    .dataframe tbody tr th {\n",
       "        vertical-align: top;\n",
       "    }\n",
       "\n",
       "    .dataframe thead th {\n",
       "        text-align: right;\n",
       "    }\n",
       "</style>\n",
       "<table border=\"1\" class=\"dataframe\">\n",
       "  <thead>\n",
       "    <tr style=\"text-align: right;\">\n",
       "      <th></th>\n",
       "      <th>p18_1</th>\n",
       "      <th>p18_2</th>\n",
       "      <th>p18_3</th>\n",
       "      <th>p18_4</th>\n",
       "      <th>p18_5</th>\n",
       "      <th>p18_6</th>\n",
       "      <th>p18_7</th>\n",
       "      <th>p18_8</th>\n",
       "      <th>p18_9</th>\n",
       "      <th>p18_10</th>\n",
       "      <th>p18_11</th>\n",
       "      <th>p18_12</th>\n",
       "      <th>p18_13</th>\n",
       "      <th>p18_14</th>\n",
       "      <th>p19_1e</th>\n",
       "      <th>p19_2e</th>\n",
       "      <th>p20e</th>\n",
       "    </tr>\n",
       "  </thead>\n",
       "  <tbody>\n",
       "    <tr>\n",
       "      <th>0</th>\n",
       "      <td>No</td>\n",
       "      <td>No</td>\n",
       "      <td>No</td>\n",
       "      <td>No</td>\n",
       "      <td>No</td>\n",
       "      <td>No</td>\n",
       "      <td>No</td>\n",
       "      <td>No</td>\n",
       "      <td>No</td>\n",
       "      <td>No</td>\n",
       "      <td>No</td>\n",
       "      <td>No</td>\n",
       "      <td>No</td>\n",
       "      <td>No</td>\n",
       "      <td>Puebla</td>\n",
       "      <td>San Luis Potosí</td>\n",
       "      <td>Nuevo León</td>\n",
       "    </tr>\n",
       "    <tr>\n",
       "      <th>1</th>\n",
       "      <td>No</td>\n",
       "      <td>No</td>\n",
       "      <td>No</td>\n",
       "      <td>No</td>\n",
       "      <td>No</td>\n",
       "      <td>No</td>\n",
       "      <td>No</td>\n",
       "      <td>No</td>\n",
       "      <td>No</td>\n",
       "      <td>No</td>\n",
       "      <td>No</td>\n",
       "      <td>No</td>\n",
       "      <td>No</td>\n",
       "      <td>No</td>\n",
       "      <td>Tamaulipas</td>\n",
       "      <td>Chiapas</td>\n",
       "      <td>Tamaulipas</td>\n",
       "    </tr>\n",
       "    <tr>\n",
       "      <th>2</th>\n",
       "      <td>No</td>\n",
       "      <td>No</td>\n",
       "      <td>No</td>\n",
       "      <td>No</td>\n",
       "      <td>No</td>\n",
       "      <td>No</td>\n",
       "      <td>No</td>\n",
       "      <td>No</td>\n",
       "      <td>No</td>\n",
       "      <td>No</td>\n",
       "      <td>No</td>\n",
       "      <td>No</td>\n",
       "      <td>No</td>\n",
       "      <td>No</td>\n",
       "      <td>Distrito Federal</td>\n",
       "      <td>Nuevo León</td>\n",
       "      <td>Nuevo León</td>\n",
       "    </tr>\n",
       "    <tr>\n",
       "      <th>3</th>\n",
       "      <td>No</td>\n",
       "      <td>No</td>\n",
       "      <td>No</td>\n",
       "      <td>No</td>\n",
       "      <td>No</td>\n",
       "      <td>No</td>\n",
       "      <td>No</td>\n",
       "      <td>No</td>\n",
       "      <td>No</td>\n",
       "      <td>No</td>\n",
       "      <td>No</td>\n",
       "      <td>No</td>\n",
       "      <td>No</td>\n",
       "      <td>No</td>\n",
       "      <td>Puebla</td>\n",
       "      <td>Nuevo León</td>\n",
       "      <td>Puebla</td>\n",
       "    </tr>\n",
       "    <tr>\n",
       "      <th>4</th>\n",
       "      <td>Sí</td>\n",
       "      <td>No</td>\n",
       "      <td>No</td>\n",
       "      <td>No</td>\n",
       "      <td>No</td>\n",
       "      <td>No</td>\n",
       "      <td>No</td>\n",
       "      <td>No</td>\n",
       "      <td>No</td>\n",
       "      <td>No</td>\n",
       "      <td>No</td>\n",
       "      <td>No</td>\n",
       "      <td>No</td>\n",
       "      <td>No</td>\n",
       "      <td>Distrito Federal</td>\n",
       "      <td>Chiapas</td>\n",
       "      <td>Nuevo León</td>\n",
       "    </tr>\n",
       "  </tbody>\n",
       "</table>\n",
       "</div>"
      ],
      "text/plain": [
       "  p18_1 p18_2 p18_3 p18_4 p18_5 p18_6 p18_7 p18_8 p18_9 p18_10 p18_11 p18_12  \\\n",
       "0    No    No    No    No    No    No    No    No    No     No     No     No   \n",
       "1    No    No    No    No    No    No    No    No    No     No     No     No   \n",
       "2    No    No    No    No    No    No    No    No    No     No     No     No   \n",
       "3    No    No    No    No    No    No    No    No    No     No     No     No   \n",
       "4    Sí    No    No    No    No    No    No    No    No     No     No     No   \n",
       "\n",
       "  p18_13 p18_14            p19_1e           p19_2e        p20e  \n",
       "0     No     No            Puebla  San Luis Potosí  Nuevo León  \n",
       "1     No     No        Tamaulipas          Chiapas  Tamaulipas  \n",
       "2     No     No  Distrito Federal       Nuevo León  Nuevo León  \n",
       "3     No     No            Puebla       Nuevo León      Puebla  \n",
       "4     No     No  Distrito Federal          Chiapas  Nuevo León  "
      ]
     },
     "execution_count": 51,
     "metadata": {},
     "output_type": "execute_result"
    }
   ],
   "source": [
    "df.head()"
   ]
  },
  {
   "cell_type": "code",
   "execution_count": 52,
   "metadata": {},
   "outputs": [],
   "source": [
    "to_count = df.replace(['No', 'No sabe', 'No responde', 'Sí', 'No especificado'], [0,0,0,1,0])"
   ]
  },
  {
   "cell_type": "code",
   "execution_count": 53,
   "metadata": {},
   "outputs": [],
   "source": [
    "to_count['sum'] = to_count.sum(axis=1)"
   ]
  },
  {
   "cell_type": "code",
   "execution_count": 54,
   "metadata": {},
   "outputs": [],
   "source": [
    "to_use = to_count.iloc[:,14:]"
   ]
  },
  {
   "cell_type": "code",
   "execution_count": 55,
   "metadata": {},
   "outputs": [
    {
     "data": {
      "text/plain": [
       "0     3526\n",
       "1      390\n",
       "2      304\n",
       "3       93\n",
       "4       23\n",
       "6       10\n",
       "5        8\n",
       "9        5\n",
       "7        4\n",
       "10       4\n",
       "8        4\n",
       "Name: sum, dtype: int64"
      ]
     },
     "execution_count": 55,
     "metadata": {},
     "output_type": "execute_result"
    }
   ],
   "source": [
    "to_use['sum'].value_counts()"
   ]
  },
  {
   "cell_type": "code",
   "execution_count": 56,
   "metadata": {},
   "outputs": [],
   "source": [
    "ok = to_use.melt(id_vars=['sum'])"
   ]
  },
  {
   "cell_type": "code",
   "execution_count": 57,
   "metadata": {},
   "outputs": [
    {
     "data": {
      "text/html": [
       "<div>\n",
       "<style scoped>\n",
       "    .dataframe tbody tr th:only-of-type {\n",
       "        vertical-align: middle;\n",
       "    }\n",
       "\n",
       "    .dataframe tbody tr th {\n",
       "        vertical-align: top;\n",
       "    }\n",
       "\n",
       "    .dataframe thead th {\n",
       "        text-align: right;\n",
       "    }\n",
       "</style>\n",
       "<table border=\"1\" class=\"dataframe\">\n",
       "  <thead>\n",
       "    <tr style=\"text-align: right;\">\n",
       "      <th></th>\n",
       "      <th>sum</th>\n",
       "      <th>variable</th>\n",
       "      <th>value</th>\n",
       "    </tr>\n",
       "  </thead>\n",
       "  <tbody>\n",
       "    <tr>\n",
       "      <th>0</th>\n",
       "      <td>0</td>\n",
       "      <td>p19_1e</td>\n",
       "      <td>Puebla</td>\n",
       "    </tr>\n",
       "    <tr>\n",
       "      <th>1</th>\n",
       "      <td>0</td>\n",
       "      <td>p19_1e</td>\n",
       "      <td>Tamaulipas</td>\n",
       "    </tr>\n",
       "    <tr>\n",
       "      <th>2</th>\n",
       "      <td>0</td>\n",
       "      <td>p19_1e</td>\n",
       "      <td>Distrito Federal</td>\n",
       "    </tr>\n",
       "    <tr>\n",
       "      <th>3</th>\n",
       "      <td>0</td>\n",
       "      <td>p19_1e</td>\n",
       "      <td>Puebla</td>\n",
       "    </tr>\n",
       "    <tr>\n",
       "      <th>4</th>\n",
       "      <td>1</td>\n",
       "      <td>p19_1e</td>\n",
       "      <td>Distrito Federal</td>\n",
       "    </tr>\n",
       "  </tbody>\n",
       "</table>\n",
       "</div>"
      ],
      "text/plain": [
       "   sum variable             value\n",
       "0    0   p19_1e            Puebla\n",
       "1    0   p19_1e        Tamaulipas\n",
       "2    0   p19_1e  Distrito Federal\n",
       "3    0   p19_1e            Puebla\n",
       "4    1   p19_1e  Distrito Federal"
      ]
     },
     "execution_count": 57,
     "metadata": {},
     "output_type": "execute_result"
    }
   ],
   "source": [
    "ok.head()"
   ]
  },
  {
   "cell_type": "code",
   "execution_count": 61,
   "metadata": {},
   "outputs": [],
   "source": [
    "nex = ok[ok.value != 'No especificado']\n",
    "nex2 = ok[ok.value != 0]"
   ]
  },
  {
   "cell_type": "code",
   "execution_count": 64,
   "metadata": {},
   "outputs": [],
   "source": [
    "this = nex2.groupby('value')['sum'].agg('sum')"
   ]
  },
  {
   "cell_type": "code",
   "execution_count": 65,
   "metadata": {},
   "outputs": [
    {
     "data": {
      "text/plain": [
       "value\n",
       "Aguascalientes                        4\n",
       "Baja California                      58\n",
       "Baja California Sur                   0\n",
       "Campeche                              0\n",
       "Chiapas                             724\n",
       "Chihuahua                            84\n",
       "Coahuila de Zaragoza                 74\n",
       "Colima                                2\n",
       "Distrito Federal                    356\n",
       "Durango                               8\n",
       "Guanajuato                           29\n",
       "Guerrero                              5\n",
       "Hidalgo                               0\n",
       "Jalisco                              54\n",
       "Michoacán de Ocampo                   4\n",
       "Morelos                               1\n",
       "México                               46\n",
       "Nayarit                               3\n",
       "Nuevo León                          274\n",
       "Oaxaca                               79\n",
       "Puebla                              155\n",
       "Querétaro                             1\n",
       "Quintana Roo                          9\n",
       "San Luis Potosí                     110\n",
       "Sinaloa                               6\n",
       "Sonora                              246\n",
       "Tabasco                             248\n",
       "Tamaulipas                         1341\n",
       "Tlaxcala                              1\n",
       "Veracruz de Ignacio de la Llave     601\n",
       "Yucatán                               1\n",
       "Zacatecas                            15\n",
       "Name: sum, dtype: int64"
      ]
     },
     "execution_count": 65,
     "metadata": {},
     "output_type": "execute_result"
    }
   ],
   "source": [
    "this"
   ]
  },
  {
   "cell_type": "code",
   "execution_count": 66,
   "metadata": {},
   "outputs": [],
   "source": [
    "values = nex2['value'].value_counts()"
   ]
  },
  {
   "cell_type": "code",
   "execution_count": 70,
   "metadata": {},
   "outputs": [
    {
     "data": {
      "text/plain": [
       "Tamaulipas                         3438\n",
       "Chiapas                            2077\n",
       "Veracruz de Ignacio de la Llave    1107\n",
       "Nuevo León                         1003\n",
       "Sonora                              885\n",
       "Distrito Federal                    861\n",
       "Tabasco                             574\n",
       "Puebla                              568\n",
       "Chihuahua                           302\n",
       "Baja California                     224\n",
       "San Luis Potosí                     212\n",
       "Oaxaca                              199\n",
       "Coahuila de Zaragoza                175\n",
       "México                              167\n",
       "Jalisco                             121\n",
       "Guanajuato                           83\n",
       "Querétaro                            65\n",
       "Durango                              34\n",
       "Sinaloa                              32\n",
       "Quintana Roo                         24\n",
       "Guerrero                             23\n",
       "Zacatecas                            13\n",
       "Hidalgo                              11\n",
       "Aguascalientes                       10\n",
       "Nayarit                               7\n",
       "Michoacán de Ocampo                   6\n",
       "Campeche                              5\n",
       "Yucatán                               4\n",
       "Morelos                               3\n",
       "Colima                                3\n",
       "Baja California Sur                   1\n",
       "Tlaxcala                              1\n",
       "Name: value, dtype: int64"
      ]
     },
     "execution_count": 70,
     "metadata": {},
     "output_type": "execute_result"
    }
   ],
   "source": [
    "values"
   ]
  },
  {
   "cell_type": "code",
   "execution_count": 72,
   "metadata": {},
   "outputs": [],
   "source": [
    "vals = values.replace([1, 3, 4, 5, 6, 7, 10, 11, 13], 0)"
   ]
  },
  {
   "cell_type": "code",
   "execution_count": 74,
   "metadata": {},
   "outputs": [],
   "source": [
    "final = this / vals"
   ]
  },
  {
   "cell_type": "code",
   "execution_count": 81,
   "metadata": {},
   "outputs": [],
   "source": [
    "final = final.to_frame()"
   ]
  },
  {
   "cell_type": "code",
   "execution_count": 82,
   "metadata": {},
   "outputs": [],
   "source": [
    "import numpy as np\n",
    "final = final.replace([np.inf, -np.inf, np.nan], 0)\n"
   ]
  },
  {
   "cell_type": "code",
   "execution_count": 9,
   "metadata": {},
   "outputs": [],
   "source": [
    "vio.to_csv('d3data/violence.csv')"
   ]
  },
  {
   "cell_type": "code",
   "execution_count": 2,
   "metadata": {},
   "outputs": [],
   "source": [
    "vio = pd.read_csv('d3data/violence.csv')"
   ]
  },
  {
   "cell_type": "code",
   "execution_count": 10,
   "metadata": {},
   "outputs": [],
   "source": [
    "vio = vio.rename(columns = {'Unnamed: 0': 'Index'})"
   ]
  },
  {
   "cell_type": "code",
   "execution_count": 5,
   "metadata": {},
   "outputs": [],
   "source": [
    "vio = vio.replace({'Coahuila de Zaragoza': 'Coahuila', 'Michoacán de Ocampo': 'Michoacán', 'Veracruz de Ignacio de la Llave':'Veracruz'})"
   ]
  },
  {
   "cell_type": "code",
   "execution_count": 8,
   "metadata": {},
   "outputs": [],
   "source": [
    "vio = vio.iloc[:, 2:]"
   ]
  },
  {
   "cell_type": "code",
   "execution_count": 9,
   "metadata": {},
   "outputs": [],
   "source": [
    "vio = vio.rename(columns = {'Unnamed: 0':'State', '0':'Percentage'})"
   ]
  },
  {
   "cell_type": "code",
   "execution_count": null,
   "metadata": {},
   "outputs": [],
   "source": []
  }
 ],
 "metadata": {
  "kernelspec": {
   "display_name": "Python 3",
   "language": "python",
   "name": "python3"
  },
  "language_info": {
   "codemirror_mode": {
    "name": "ipython",
    "version": 3
   },
   "file_extension": ".py",
   "mimetype": "text/x-python",
   "name": "python",
   "nbconvert_exporter": "python",
   "pygments_lexer": "ipython3",
   "version": "3.7.1"
  }
 },
 "nbformat": 4,
 "nbformat_minor": 2
}
